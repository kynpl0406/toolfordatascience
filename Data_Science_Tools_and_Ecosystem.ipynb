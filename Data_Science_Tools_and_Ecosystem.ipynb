{
 "cells": [
  {
   "cell_type": "markdown",
   "id": "f33ce328",
   "metadata": {},
   "source": [
    "# Data Science Tools and Ecosystem"
   ]
  },
  {
   "cell_type": "markdown",
   "id": "dc6727ce",
   "metadata": {},
   "source": [
    "In this notebook, we will summarize some of the popular tools, languages, and libraries used by data scientists. \n",
    "We will also perform simple arithmetic operations and demonstrate basic markdown formatting."
   ]
  },
  {
   "cell_type": "markdown",
   "id": "c21e1aa8",
   "metadata": {},
   "source": [
    "### Data Science Languages\n",
    "\n",
    "Some of the popular languages that Data Scientists use are:\n",
    "1. Python\n",
    "2. R\n",
    "3. SQL\n",
    "4. Java\n",
    "5. Julia"
   ]
  },
  {
   "cell_type": "markdown",
   "id": "4ffed09e",
   "metadata": {},
   "source": [
    "### Data Science Libraries\n",
    "\n",
    "Commonly used libraries for data science include:\n",
    "1. Pandas\n",
    "2. NumPy\n",
    "3. Matplotlib\n",
    "4. Scikit-learn\n",
    "5. TensorFlow"
   ]
  },
  {
   "cell_type": "markdown",
   "id": "92f45c4c",
   "metadata": {},
   "source": [
    "### Data Science Tools\n",
    "\n",
    "| Tool | Category | Description |\n",
    "|------|-----------|--------------|\n",
    "| Jupyter Notebook | IDE | Interactive environment for running code and documentation |\n",
    "| RStudio | IDE | IDE for R programming |\n",
    "| Apache Spark | Framework | Big data processing framework |\n",
    "| TensorFlow | Library | Machine learning and deep learning library |\n",
    "| Tableau | Visualization | Data visualization tool |"
   ]
  },
  {
   "cell_type": "markdown",
   "id": "dfcd5597",
   "metadata": {},
   "source": [
    "### Examples of Arithmetic Expressions\n",
    "\n",
    "Below are examples of basic arithmetic operations like addition and multiplication."
   ]
  },
  {
   "cell_type": "code",
   "execution_count": null,
   "id": "120f2cdb",
   "metadata": {},
   "outputs": [],
   "source": [
    "# This is a simple arithmetic expression to multiply and add numbers\n",
    "(3 * 4) + 5"
   ]
  },
  {
   "cell_type": "code",
   "execution_count": null,
   "id": "9979968e",
   "metadata": {},
   "outputs": [],
   "source": [
    "# This will convert 200 minutes to hours by dividing by 60\n",
    "minutes = 200\n",
    "hours = minutes / 60\n",
    "hours"
   ]
  },
  {
   "cell_type": "markdown",
   "id": "ddb52b36",
   "metadata": {},
   "source": [
    "### Objectives\n",
    "\n",
    "In this notebook, you will learn:\n",
    "- Popular data science languages\n",
    "- Commonly used libraries and tools\n",
    "- Examples of arithmetic expressions\n",
    "- Converting minutes to hours using Python"
   ]
  },
  {
   "cell_type": "markdown",
   "id": "c63a2db7",
   "metadata": {},
   "source": [
    "## Author\n",
    "**Your Name Here**"
   ]
  }
 ],
 "metadata": {},
 "nbformat": 4,
 "nbformat_minor": 5
}
